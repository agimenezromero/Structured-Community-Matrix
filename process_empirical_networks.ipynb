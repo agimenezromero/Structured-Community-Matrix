{
 "cells": [
  {
   "cell_type": "code",
   "execution_count": null,
   "metadata": {},
   "outputs": [],
   "source": [
    "import numpy as np\n",
    "import pandas as pd\n",
    "\n",
    "import glob\n",
    "\n",
    "# Transform food web data from the Web of Life database into adjacency matrices used to parameterize the Structured Community Matrix\n",
    "def FW_to_A(df):\n",
    "    \n",
    "    predators = df.columns\n",
    "    preys = df.index\n",
    "\n",
    "    unique_species = np.unique(np.concatenate((predators, preys)))\n",
    "\n",
    "    A = np.zeros((len(unique_species), len(unique_species)))\n",
    "\n",
    "    for i, predator in enumerate(predators):\n",
    "        for j, prey in enumerate(preys):\n",
    "            \n",
    "            if df.iloc[j, i] > 0:\n",
    "            \n",
    "                A[unique_species == predator, unique_species == prey] = -1.0 # df.iloc[j, i]\n",
    "                A[unique_species == prey, unique_species == predator] = 1.0 # df.iloc[j, i]\n",
    "                \n",
    "    np.fill_diagonal(A, 0.0)\n",
    "        \n",
    "    df_A = pd.DataFrame(A, index=unique_species, columns=unique_species)\n",
    "\n",
    "    return df_A\n",
    "\n",
    "def generate_interaction_matrices():\n",
    "    \n",
    "    filenames = glob.glob(\"Data/web-of-life_food_webs/FW_*.csv\")\n",
    "\n",
    "    for filename in filenames:\n",
    "        \n",
    "        name = filename.split(\"/\")[-1].split(\".\")[0]\n",
    "        \n",
    "        df = pd.read_csv(filename, index_col=0) # Columns are predators, rows are prey and values are proportion of prey in diet.\n",
    "        \n",
    "        df_A = FW_to_A(df)\n",
    "        \n",
    "        df_A.to_csv(f\"Data/web-of-life_food_webs/A_{name}.csv\")"
   ]
  },
  {
   "cell_type": "code",
   "execution_count": null,
   "metadata": {},
   "outputs": [],
   "source": [
    "generate_interaction_matrices()"
   ]
  }
 ],
 "metadata": {
  "kernelspec": {
   "display_name": "matplotlib-latest",
   "language": "python",
   "name": "python3"
  },
  "language_info": {
   "codemirror_mode": {
    "name": "ipython",
    "version": 3
   },
   "file_extension": ".py",
   "mimetype": "text/x-python",
   "name": "python",
   "nbconvert_exporter": "python",
   "pygments_lexer": "ipython3",
   "version": "3.12.9"
  }
 },
 "nbformat": 4,
 "nbformat_minor": 2
}
